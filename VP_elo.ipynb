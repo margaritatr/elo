{
 "cells": [
  {
   "cell_type": "markdown",
   "id": "c5461f3e-fc4a-4bb0-a048-47a0b546bb42",
   "metadata": {},
   "source": [
    "# Рейтинг Эло\n",
    "- Расчет рейтинга Эло в шахматах и футболе\n",
    "- Статистика футбольных матчей, фора, букмекерские коэффициенты\n",
    "- Рейтинг Эло футбольных команд с учетом форы\n",
    "- Прогнозирование исхода футоольного матча с учетом форы при помощи рейтинга эло"
   ]
  },
  {
   "cell_type": "markdown",
   "id": "6a3404fe-abd5-4332-8813-00ba8ab6b5d6",
   "metadata": {},
   "source": [
    "## Расчет рейтинга Эло в шахматах и футболе"
   ]
  },
  {
   "cell_type": "markdown",
   "id": "041f4d73-5db4-42de-a5e3-4ccb45c23c79",
   "metadata": {},
   "source": [
    "Рейтинг Эло - это система оценки уровня игроков в шахматах, которая также используется для оценки уровня игроков в других играх, включая футбол. Система была разработана Арпадом Эло в 1960-х годах и с тех пор стала одной из наиболее широко используемых систем оценки уровня игроков.\n",
    "\n",
    "Рейтинг Эло вычисляется на основе результатов предыдущих матчей. Каждый игрок имеет начальный рейтинг. Затем, после каждого матча, рейтинг каждого игрока изменяется в зависимости от результата матча и рейтинга его соперника.\n",
    "\n",
    "Каждый игрок имеет свой рейтинг, который отражает его относительную силу в сравнении с другими игроками. Рейтинг Эло вычисляется на основе результатов игр игрока с другими игроками, причем изменение рейтинга зависит от рейтинга соперника и результата игры (победы, ничьей или поражения).\n",
    "\n",
    "Например, если игрок с более высоким рейтингом выигрывает у игрока с более низким рейтингом, то его рейтинг практически не изменится. Если же игрок с более низким рейтингом выигрывает у игрока с более высоким рейтингом, то его рейтинг значительно повысится.\n",
    "\n",
    "Рейтинг Эло измеряется в очках и может изменяться от 1000 до 3000 в зависимости от уровня игрока. Чем выше рейтинг, тем более сильным считается игрок. Например, уровень мастера начинается с рейтинга около 2200, а уровень гроссмейстера - с рейтинга около 2500.\n",
    "\n",
    "В шахматах рейтинг Эло вычисляется по формуле:\n",
    "\n",
    "$$R_n = R_o + K * (W - W_e)$$\n",
    "\n",
    "где:\n",
    "\n",
    "$R_n$ - новый рейтинг игрока;\n",
    "\n",
    "$R_o$ - старый рейтинг игрока;\n",
    "\n",
    "$K$ - коэффициент, который определяет, насколько сильно изменится рейтинг игрока после матча;\n",
    "\n",
    "$W$ - результат матча (1 - победа, 0,5 - ничья, 0 - поражение);\n",
    "\n",
    "$W_e$ - ожидаемый результат матча, который вычисляется по формуле:\n",
    "\n",
    "$$W_e = \\frac{1}{1 + 10^{(R_{opp} - R_o) / 400}}$$,\n",
    "\n",
    "\n",
    "где $R_{opp}$ - рейтинг соперника. \n",
    "\n",
    "Значение коэффициента K зависит от рейтинга игрока и определяется следующим образом (в шахматах): \n",
    "\n",
    "$K = 40$ для новых игроков (первые 30 партий с момента получения рейтинга ФИДЕ), а также для игроков до 18 лет, рейтинг которых ниже 2300;\n",
    "\n",
    "$K = 20$ для игроков с рейтингом меньше, чем 2400;\n",
    "\n",
    "$K = 10$ для сильнейших игроков (рейтинг 2400 и выше).\n",
    "\n",
    "Формула выше показывает вероятность победы первого игрока в игре против второго игрока. Чем больше разница между рейтингами игроков, тем больше вероятность победы более сильного игрока.\n",
    "\n",
    "В футболе рейтинг Эло вычисляется похожим образом, но с некоторыми изменениями. В частности, в футболе учитывается количество забитых и пропущенных мячей. Ожидаемый результат матча вычисляется как функция от разницы рейтингов команд и разницы их средних голов в игре.\n",
    "\n",
    "В расчете рейтинга Эло в футболе используется аналогичная формула, но с некоторыми изменениями. Вместо  K используется коэффициент, который учитывает влияние различных факторов, таких как важность матча, место проведения и другие. Также вместо ожидаемого результата We используется коэффициент, который зависит от текущего рейтинга команды и ее соперника.\n",
    "\n",
    "Формулы Эло позволяют оценить относительную силу игроков или команд в соответствующих играх и рассчитать их рейтинг. Рейтинг Эло может изменяться после каждой игры, и изменение зависит от результата игры и рейтинга соперника. Чем сильнее соперник, тем больше изменение рейтинга игрока или команды после игры.\n"
   ]
  },
  {
   "cell_type": "markdown",
   "id": "bb31faad-8127-42a2-a881-8f3a4889ea82",
   "metadata": {},
   "source": [
    "## Статистика футбольных матчей, фора, букмекерские коэффициенты:"
   ]
  },
  {
   "cell_type": "markdown",
   "id": "39809eb8-2f5b-4269-8381-8af1fbc60262",
   "metadata": {},
   "source": [
    "Статистика футбольных матчей, фора и букмекерские коэффициенты являются важными компонентами спортивного анализа для спортивных команд и букмекерских контор. Эти данные используются для оценки относительной силы команд и прогнозирования результатов матчей.\n",
    "\n",
    "Статистика футбольных матчей включает в себя информацию о прошлых матчах, включая результаты, количество голов, количество ударов и другие факторы, которые могут повлиять на результаты будущих матчей. Статистика может быть собрана как для отдельных игроков, так и для команд в целом. Статистический анализ позволяет выявить сильные и слабые стороны команды и прогнозировать ее возможности в следующих матчах. \n",
    "\n",
    "Для анализа статистики футбольных матчей можно использовать данные о результатах матчей, забитых и пропущенных мячах, победах, ничьих и поражениях команд и т.д. Эти данные можно получить из различных источников, таких как официальные сайты футбольных лиг, спортивные новостные сайты и т.д.\n",
    "\n",
    "Фора (handicap) - это форма ставок, которая позволяет уравнять шансы команды на победу. Фора может быть положительной или отрицательной, в зависимости от того, какая команда считается более сильной. Если команда имеет положительную фору, то она должна выиграть матч с учетом этой форы. Если команда имеет отрицательную фору, то она должна победить с разницей в голах больше, чем указанная фора. Фора позволяет увеличить выигрыш, если команда побеждает с большим отрывом или выигрывает матч, несмотря на небольшое преимущество соперника.\n",
    "\n",
    "Букмекерские коэффициенты - это числа, которые отражают вероятность того, что определенное событие произойдет в матче. Букмекерские конторы устанавливают коэффициенты на основе статистики матчей, текущей формы команд и других факторов. Коэффициенты могут изменяться до начала матча, в зависимости от того, как меняются прогнозы на исход матча. Букмекерские коэффициенты позволяют игрокам сделать ставку на определенный исход матча и выиграть, если их прогноз оказывается верным.\n",
    "\n",
    "Букмекерские коэффициенты - это значения, которые указывают, какую прибыль можно получить от ставки на определенный исход матча. Коэффициенты могут быть высокими для команд с низким рейтингом, если они считаются аутсайдерами, и низкими для команд с высоким рейтингом, если они считаются фаворитами.\n",
    "\n",
    "Важно отметить, что статистика, фора и букмекерские коэффициенты могут быть не всегда точными и полными. Иногда результаты матчей могут быть неожиданными и не соответствовать статистическим данным или прогнозам. Также стоит учитывать, что футбол - это игра, которая зависит от многих факторов, включая мотивацию команды, состояние игроков и другие факторы, которые не всегда могут быть учтены в статистике и прогнозах."
   ]
  },
  {
   "cell_type": "markdown",
   "id": "45043fd3-a775-4d4d-a778-a41df70bfe8d",
   "metadata": {},
   "source": [
    "##  Рейтинг Эло футбольных команд с учетом форы"
   ]
  },
  {
   "cell_type": "markdown",
   "id": "66b8a7c8-a821-4518-9bd4-b9cedc80b8cc",
   "metadata": {},
   "source": [
    "Для реализации системы рейтингования Эло с помощью Python мы будем использовать следующие шаги:\n",
    "\n",
    "**Определение начального рейтинга игроков**\n",
    "Мы можем использовать любое начальное значение рейтинга.\n",
    "\n",
    "**Расчет ожидаемого результата игры**\n",
    "\n",
    "Для этого мы используем следующую формулу:\n",
    "\n",
    "$$\\text{expected_score} = \\frac{1}{1 + 10^{(\\text{opponent_rating} - \\text{player_rating}) / 400}}$$\n",
    "\n",
    "Здесь *$\\text{opponent_rating}$* - рейтинг соперника\n",
    "\n",
    "*$\\text{player_rating}$* - рейтинг игрока.\n",
    "\n",
    "**Обновление рейтинга игрока**\n",
    "\n",
    "Для этого мы используем следующую формулу:\n",
    "\n",
    "$$\\text{new_rating} = \\text{old_rating} + k * (\\text{actual_score} - \\text{expected_score})$$\n",
    "\n",
    "Здесь $\\text{old_rating}$ - предыдущий рейтинг игрока\n",
    "\n",
    "$k$ - коэффициент, который определяет, насколько сильно изменяется рейтинг игрока после каждой игры \n",
    "\n",
    "$\\text{actual_score}$ - фактический результат игры (1 - победа игрока, 0 - поражение игрока, 0.5 - ничья).\n",
    "\n",
    "**Реализация системы рейтингования Эло на примере футбольных матчей.**\n",
    "\n",
    "Давайте рассмотрим пример применения системы рейтингования Эло на примере футбольных матчей. Для этого мы будем использовать датасет, содержащий результаты матчей английской Премьер-лиги.\n",
    "\n",
    "Загрузим датасет и импортируем необходимые библиотеки:"
   ]
  },
  {
   "cell_type": "code",
   "execution_count": 150,
   "id": "d50cb5e2-abb3-4c39-992c-007665dfc28e",
   "metadata": {},
   "outputs": [],
   "source": [
    "import pandas as pd\n",
    "import numpy as np"
   ]
  },
  {
   "cell_type": "markdown",
   "id": "bfa8191a-bc24-42ea-872e-dd2f663f357e",
   "metadata": {},
   "source": [
    "Данные о матчах будем брать с сайта https://www.football-data.co.uk/data.php"
   ]
  },
  {
   "cell_type": "code",
   "execution_count": 172,
   "id": "9e93ddb1-cd79-450b-9d59-4f3af71fe524",
   "metadata": {},
   "outputs": [],
   "source": [
    "#чтение CSV-файла 'E0.csv' и сохранения его содержимого в переменную с именем 'data'\n",
    "data = pd.read_csv(r'E0.csv')"
   ]
  },
  {
   "cell_type": "markdown",
   "id": "149c4fa4-c562-4d46-8878-ab8b5e896332",
   "metadata": {},
   "source": [
    "Создание множества с уникальными значениями команд, которые выступали как хозяева на своем поле в матчах, хранящихся в переменной 'data', используя метод pandas 'unique()'. \n",
    "\n",
    "Извлечение столбца 'HomeTeam' из переменной 'data', который содержит названия команд, выступавших на своем поле\n",
    "Метода 'unique()' для получения уникальных значений этих названий. \n",
    "\n",
    "В результате получается множество 'teams', содержащее названия всех команд-хозяев в матчах, хранящихся в переменной 'data'."
   ]
  },
  {
   "cell_type": "code",
   "execution_count": 173,
   "id": "e343c459-257d-43d9-b2fd-d1e0d103a3b9",
   "metadata": {},
   "outputs": [],
   "source": [
    "#словарь, который будет содержать рейтинги всех команд\n",
    "teams = set(data['HomeTeam'].unique())\n",
    "ratings = {team: 1400 for team in teams}"
   ]
  },
  {
   "cell_type": "code",
   "execution_count": 183,
   "id": "3311c9d9-9ee9-4eed-9df2-41206792a5d5",
   "metadata": {},
   "outputs": [],
   "source": [
    "# функция расчета рейтингов для каждой игры    \n",
    "\"\"\"\n",
    "\n",
    "Входные параметры:\n",
    "home_team: название домашней команды\n",
    "away_team: название гостевой команды\n",
    "home_score: количество голов, забитых домашней командой\n",
    "away_score: количество голов, забитых гостевой командой\n",
    "ratings: словарь, содержащий текущие рейтинги команд \n",
    "\n",
    "\"\"\"\n",
    "def update_ratings(home_team, away_team, home_score, away_score, ratings):\n",
    "    home_rating, away_rating = ratings[home_team], ratings[away_team] #текущие рейтинги команд\n",
    "    if home_rating == away_rating:\n",
    "        home_expected = 0.5  # ожидаемые вероятности победы домашней и гостевой команд \n",
    "        away_expected = 0.5\n",
    "    else:\n",
    "        home_expected = 1 / (1 + 10 ** ((away_rating - home_rating) / 400))\n",
    "        away_expected = 1 / (1 + 10 ** ((home_rating - away_rating) / 400))\n",
    "    if home_score + away_score == 0:\n",
    "        home_actual = 0.5 # фактические вероятности победы домашней и гостевой команд\n",
    "        away_actual = 0.5\n",
    "    else:\n",
    "        home_actual = home_score / (home_score + away_score)\n",
    "        away_actual = away_score / (home_score + away_score)\n",
    "    ratings[home_team] += 32 * (home_actual - home_expected)\n",
    "    ratings[away_team] += 32 * (away_actual - away_expected)"
   ]
  },
  {
   "cell_type": "markdown",
   "id": "4da5841e-4a88-462c-9ea2-e6865c0bbe00",
   "metadata": {},
   "source": [
    "Обновляем рейтинги команд с помощью формулы Эло, учитывая разницу между фактическими \n",
    "и ожидаемыми вероятностями победы, и добавляя к рейтингу команды поправку в 32 балла.\n",
    "Поправка в 32 балла является стандартным значением в системе рейтингов Эло и используется для того,\n",
    "чтобы увеличить изменение рейтинга команды в зависимости от разницы между фактической\n",
    "и ожидаемой вероятностью победы."
   ]
  },
  {
   "cell_type": "code",
   "execution_count": 184,
   "id": "bc9284f1-b717-447a-97e3-ce21aba1627f",
   "metadata": {},
   "outputs": [],
   "source": [
    "#для каждой игры в датасете\n",
    "for _, row in data.iterrows():\n",
    "    home_team, away_team = row['HomeTeam'], row['AwayTeam']\n",
    "    home_score, away_score = row['FTHG'], row['FTAG']\n",
    "    update_ratings(home_team, away_team, home_score, away_score, ratings)"
   ]
  },
  {
   "cell_type": "code",
   "execution_count": 185,
   "id": "352dc09f-db73-464f-b0d5-4edec58e74f9",
   "metadata": {},
   "outputs": [
    {
     "name": "stdout",
     "output_type": "stream",
     "text": [
      "Man City: 1550.22\n",
      "Man United: 1509.66\n",
      "Arsenal: 1497.45\n",
      "Liverpool: 1480.58\n",
      "Aston Villa: 1468.05\n",
      "Brighton: 1465.13\n",
      "Newcastle: 1461.75\n",
      "Brentford: 1453.06\n",
      "Tottenham: 1435.31\n",
      "Fulham: 1380.38\n",
      "West Ham: 1370.99\n",
      "Wolves: 1364.89\n",
      "Nott'm Forest: 1358.39\n",
      "Everton: 1350.42\n",
      "Crystal Palace: 1347.37\n",
      "Chelsea: 1334.35\n",
      "Leicester: 1320.82\n",
      "Leeds: 1299.15\n",
      "Bournemouth: 1296.98\n",
      "Southampton: 1255.03\n"
     ]
    }
   ],
   "source": [
    "# список команд с их рейтингами в порядке убывания рейтинга\n",
    "sorted_ratings = sorted(ratings.items(), key=lambda x: x[1], reverse=True)\n",
    "for team, rating in sorted_ratings:\n",
    "    print(f'{team}: {rating:.2f}')"
   ]
  },
  {
   "cell_type": "markdown",
   "id": "dc718bbb-c383-4c75-bed0-1bf738e989b3",
   "metadata": {},
   "source": [
    "Если сравнить с реальной турнирной таблицей https://www.eurosport.com/football/premier-league/standings.shtml можно увидеть и совпадения, и отличия. Таким образом можем сделать вывод, что рейтинг Эло не отображает реальный рейтинг команд. Это потому что он не учитывает многие факторы, нужно учитывать не только результат уже имеющийся рейтинг и результаты матчей. На исход влияют и другие факторы, например мотивация игроков."
   ]
  },
  {
   "cell_type": "markdown",
   "id": "794c62d0-ca73-49b0-a90d-3374a82b3075",
   "metadata": {},
   "source": [
    "Протестируем другие данные, например французская лига. Результаты сравним с турнирной таблице на сайте https://www.eurosport.com/football/ligue-1/standings.shtml"
   ]
  },
  {
   "cell_type": "code",
   "execution_count": 192,
   "id": "a6e107d3-b9ec-4fef-b560-48de6595f412",
   "metadata": {},
   "outputs": [],
   "source": [
    "#чтение CSV-файла 'E0.csv' и сохранения его содержимого в переменную с именем 'data'\n",
    "data = pd.read_csv(r'F1.csv')"
   ]
  },
  {
   "cell_type": "code",
   "execution_count": 193,
   "id": "559a2264-0b8f-4ec6-b84e-047f62176092",
   "metadata": {},
   "outputs": [],
   "source": [
    "#словарь, который будет содержать рейтинги всех команд\n",
    "teams = set(data['HomeTeam'].unique())\n",
    "ratings = {team: 1400 for team in teams}"
   ]
  },
  {
   "cell_type": "code",
   "execution_count": 200,
   "id": "d322265c-bb2c-4731-b168-683584a026fe",
   "metadata": {},
   "outputs": [],
   "source": [
    "def update_ratings(home_team, away_team, home_score, away_score, ratings):\n",
    "    home_rating, away_rating = ratings[home_team], ratings[away_team] #текущие рейтинги команд\n",
    "    if home_rating == away_rating:\n",
    "        home_expected = 0.5  # ожидаемые вероятности победы домашней и гостевой команд \n",
    "        away_expected = 0.5\n",
    "    else:\n",
    "        home_expected = 1 / (1 + 10 ** ((away_rating - home_rating) / 400))\n",
    "        away_expected = 1 / (1 + 10 ** ((home_rating - away_rating) / 400))\n",
    "    if home_score + away_score == 0:\n",
    "        home_actual = 0.5 # фактические вероятности победы домашней и гостевой команд\n",
    "        away_actual = 0.5\n",
    "    else:\n",
    "        home_actual = home_score / (home_score + away_score)\n",
    "        away_actual = away_score / (home_score + away_score)\n",
    "    ratings[home_team] += 10 * (home_actual - home_expected)\n",
    "    ratings[away_team] += 10 * (away_actual - away_expected)"
   ]
  },
  {
   "cell_type": "code",
   "execution_count": 201,
   "id": "26e7dcd6-57aa-4809-909e-876a24c0abdd",
   "metadata": {},
   "outputs": [],
   "source": [
    "#для каждой игры в датасете\n",
    "for _, row in data.iterrows():\n",
    "    home_team, away_team = row['HomeTeam'], row['AwayTeam']\n",
    "    home_score, away_score = row['FTHG'], row['FTAG']\n",
    "    update_ratings(home_team, away_team, home_score, away_score, ratings)"
   ]
  },
  {
   "cell_type": "code",
   "execution_count": 202,
   "id": "66ef35a4-4468-455e-86cd-44d2fd0e14c5",
   "metadata": {},
   "outputs": [
    {
     "name": "stdout",
     "output_type": "stream",
     "text": [
      "Lens: 1547.24\n",
      "Paris SG: 1491.81\n",
      "Rennes: 1479.74\n",
      "Marseille: 1451.60\n",
      "Montpellier: 1450.38\n",
      "Lyon: 1445.30\n",
      "Lille: 1444.09\n",
      "Clermont: 1428.71\n",
      "Nice: 1427.70\n",
      "Brest: 1416.82\n",
      "Reims: 1410.00\n",
      "Monaco: 1407.22\n",
      "Strasbourg: 1405.03\n",
      "Lorient: 1384.59\n",
      "Toulouse: 1375.00\n",
      "Auxerre: 1351.31\n",
      "Nantes: 1339.86\n",
      "Angers: 1267.45\n",
      "Troyes: 1255.24\n",
      "Ajaccio: 1220.92\n"
     ]
    }
   ],
   "source": [
    "# список команд с их рейтингами в порядке убывания рейтинга\n",
    "sorted_ratings = sorted(ratings.items(), key=lambda x: x[1], reverse=True)\n",
    "for team, rating in sorted_ratings:\n",
    "    print(f'{team}: {rating:.2f}')"
   ]
  },
  {
   "cell_type": "markdown",
   "id": "d02d55de-cb04-4497-aa78-66af5711e278",
   "metadata": {},
   "source": [
    "Здесь можно найти еще больше отличий с итоговой таблице."
   ]
  },
  {
   "cell_type": "markdown",
   "id": "03881c04-d329-467f-855a-19da18351488",
   "metadata": {},
   "source": [
    "Аргумент key задает функцию lambda, которая указывает на то, что сортировка должна происходить по значению каждой пары ключ-значение.\n",
    "Таким образом, функция sorted() сортирует словарь 'ratings' по значению каждой пары ключ-значение, и результат сортировки сохраняется в переменную 'sorted_ratings' в виде списка (list) кортежей (tuple), где каждый кортеж содержит два элемента: ключ и значение, отсортированные по убыванию значений."
   ]
  },
  {
   "cell_type": "markdown",
   "id": "0a480c84-68b8-4ca3-be96-c5175c4d2d7b",
   "metadata": {},
   "source": [
    "Для расчета рейтинга Эло футбольных команд с учетом форы можно использовать модифицированную версию формулы, используемой в шахматах и футболе без форы. Ожидаемый результат матча вычисляется как функция от разницы рейтингов команд и разницы их средних голов в игре, а затем к результату прибавляется значение форы.\n",
    "\n",
    "Например, если команда А имеет рейтинг 1200, а команда Б - 1000, и букмекеры предлагают фору в пользу команды Б на 1 гол, то ожидаемый результат матча для команды А будет вычисляться по формуле:\n",
    "\n",
    "$E_a = \\frac{1}{1 + 10^{(1000 - 1200 + 1) / 400}} = 0.2402$\n",
    "\n",
    "Затем новый рейтинг для команды А будет вычисляться по формуле, аналогичной раннейформуле , но с добавлением значения форы:\n",
    "\n",
    "$R_a = R_o + K * (W - E_a + F)$\n",
    "\n",
    "где $F$ - значение форы (в данном случае 1)."
   ]
  },
  {
   "cell_type": "code",
   "execution_count": 209,
   "id": "c51b3ef9-4a57-4a85-a04c-c9b12176b913",
   "metadata": {},
   "outputs": [
    {
     "name": "stdout",
     "output_type": "stream",
     "text": [
      "1409.730401389157\n",
      "1490.269598610843\n"
     ]
    }
   ],
   "source": [
    "from math import pow\n",
    "\n",
    "# Разница в рейтингах, при которой сильнейшая команда выигрывает в 75% случаев\n",
    "K = 32\n",
    "\n",
    "# Рейтинг команды по умолчанию\n",
    "DEFAULT_RATING_1 = 1400\n",
    "DEFAULT_RATING_2 = 1500\n",
    "# Словарь рейтингов команд\n",
    "ratings = {}\n",
    "\n",
    "# Функция для расчета ожидаемого результата матча\n",
    "def expected_result(rating1, rating2, handicap):\n",
    "    \"\"\"\n",
    "    rating1: рейтинг первой команды\n",
    "    rating2: рейтинг второй команды\n",
    "    handicap: фора, которую получает первая команда\n",
    "    \"\"\"\n",
    "    return 1 / (1 + pow(10, (rating2 - rating1 - handicap) / 400))\n",
    "\n",
    "# Функция для обновления рейтингов команд после матча с учетом форы\n",
    "def update_ratings(team1, team2, score1, score2, handicap):\n",
    "    \"\"\"\n",
    "    team1: название первой команды\n",
    "    team2: название второй команды\n",
    "    score1: количество голов, забитых первой командой\n",
    "    score2: количество голов, забитых второй командой\n",
    "    handicap: фора, которую получает первая команда\n",
    "    \"\"\"\n",
    "    rating1 = ratings.get(team1, DEFAULT_RATING_1)\n",
    "    rating2 = ratings.get(team2, DEFAULT_RATING_2)\n",
    "    expected_score1 = expected_result(rating1, rating2, handicap)\n",
    "    expected_score2 = expected_result(rating2, rating1, -handicap)\n",
    "    actual_score1 = score1 / (score1 + score2)\n",
    "    actual_score2 = score2 / (score1 + score2)\n",
    "    new_rating1 = rating1 + K * (actual_score1 - expected_score1)\n",
    "    new_rating2 = rating2 + K * (actual_score2 - expected_score2)\n",
    "    ratings[team1] = new_rating1\n",
    "    ratings[team2] = new_rating2\n",
    "    print(ratings[team1])\n",
    "    print(ratings[team2])\n",
    "\n",
    "# Пример использования\n",
    "update_ratings(\"Real Madrid\", \"Barcelona\", 2, 1, 2)\n",
    "# на выходе получаем рейтинг первой и рейтинг второй команды после матча с учетом форы"
   ]
  },
  {
   "cell_type": "code",
   "execution_count": 220,
   "id": "2f798780-2d20-4b31-ae49-17d0e87d2602",
   "metadata": {},
   "outputs": [],
   "source": [
    "#чтение CSV-файла 'E0.csv' и сохранения его содержимого в переменную с именем 'data'\n",
    "data = pd.read_csv(r'E0.csv')\n",
    "#словарь, который будет содержать рейтинги всех команд\n",
    "teams = set(data['HomeTeam'].unique())\n",
    "ratings = {team: 1400 for team in teams}"
   ]
  },
  {
   "cell_type": "code",
   "execution_count": 223,
   "id": "3b1a9101-fcc2-4800-808a-550c70f99c22",
   "metadata": {},
   "outputs": [],
   "source": [
    "# функция расчета рейтингов для каждой игры    \n",
    "def update_ratings(home_team, away_team, home_score, away_score, ratings):\n",
    "    home_rating, away_rating = ratings[home_team], ratings[away_team] #текущие рейтинги команд\n",
    "    if home_rating == away_rating:\n",
    "        home_expected = 0.5  # ожидаемые вероятности победы домашней и гостевой команд \n",
    "        away_expected = 0.5\n",
    "    else:\n",
    "        home_expected = 1 / (1 + 10 ** ((away_rating - home_rating) / 400))\n",
    "        away_expected = 1 / (1 + 10 ** ((home_rating - away_rating) / 400))\n",
    "    if home_score + away_score == 0:\n",
    "        home_actual = 0.5 # фактические вероятности победы домашней и гостевой команд\n",
    "        away_actual = 0.5\n",
    "    else:\n",
    "        home_actual = home_score / (home_score + away_score)\n",
    "        away_actual = away_score / (home_score + away_score)\n",
    "    ratings[home_team] += 32 * (home_actual - home_expected)\n",
    "    ratings[away_team] += 32 * (away_actual - away_expected)\n",
    "\n",
    "#для каждой игры в датасете\n",
    "for _, row in data.iterrows():\n",
    "    home_team, away_team = row['HomeTeam'], row['AwayTeam']\n",
    "    home_score, away_score = row['FTHG'], row['FTAG']\n",
    "    update_ratings(home_team, away_team, home_score, away_score, ratings)\n"
   ]
  },
  {
   "cell_type": "code",
   "execution_count": 224,
   "id": "b3bfeb10-6d61-4f94-8efc-292241f592cf",
   "metadata": {},
   "outputs": [],
   "source": [
    "# функция с добавленным параметром, уже извсетные рейтинги команд\n",
    "# например посчитанные ранее\n",
    "def update_ratings(home_team, away_team, home_score, away_score, ratings, handicap=0):\n",
    "    home_rating, away_rating = ratings[home_team], ratings[away_team]\n",
    "    home_expected = 1 / (1 + 10 ** ((away_rating - home_rating - handicap) / 400))\n",
    "    away_expected = 1 / (1 + 10 ** ((home_rating - away_rating + handicap) / 400))\n",
    "    home_actual = (home_score + handicap) / (home_score + away_score + handicap)\n",
    "    away_actual = away_score / (home_score + away_score + handicap)\n",
    "    ratings[home_team] += 32 * (home_actual - home_expected)\n",
    "    ratings[away_team] += 32 * (away_actual - away_expected)"
   ]
  },
  {
   "cell_type": "code",
   "execution_count": 225,
   "id": "2b788c9a-555d-4841-b0ed-d8a1d6585c79",
   "metadata": {},
   "outputs": [],
   "source": [
    "#словарь, который будет содержать рейтинги всех команд\n",
    "teams = set(data['HomeTeam'].unique())\n",
    "ratings = {team: 1500 for team in teams}\n",
    "\n",
    "for _, row in data.iterrows():\n",
    "    home_team, away_team = row['HomeTeam'], row['AwayTeam']\n",
    "    home_score, away_score = row['FTHG'], row['FTAG']"
   ]
  },
  {
   "cell_type": "code",
   "execution_count": 226,
   "id": "2f141fe9-56d9-4dd3-b1fc-bf75307e1b9f",
   "metadata": {},
   "outputs": [
    {
     "name": "stdout",
     "output_type": "stream",
     "text": [
      "Arsenal:1492.0042414683028\n",
      "Man United:1507.9957585316972\n"
     ]
    }
   ],
   "source": [
    "matches = [('Arsenal', 'Man United', 1, 2), ('Man United', 'Arsenal', 2, 1)]\n",
    "for match in matches:\n",
    "    home_team, away_team, home_score, away_score = match\n",
    "    update_ratings(home_team, away_team, home_score, away_score, ratings, handicap=1)\n",
    "a=ratings['Arsenal']\n",
    "b=ratings['Man United']\n",
    "print(f'Arsenal:{a}')\n",
    "print(f'Man United:{b}')\n"
   ]
  },
  {
   "cell_type": "code",
   "execution_count": 227,
   "id": "b30b5a0a-9582-4a02-9f90-bbd2691afff5",
   "metadata": {},
   "outputs": [
    {
     "name": "stdout",
     "output_type": "stream",
     "text": [
      "Man United: 1508.00\n",
      "Aston Villa: 1500.00\n",
      "Leeds: 1500.00\n",
      "Crystal Palace: 1500.00\n",
      "Southampton: 1500.00\n",
      "Fulham: 1500.00\n",
      "Newcastle: 1500.00\n",
      "Liverpool: 1500.00\n",
      "Brentford: 1500.00\n",
      "Tottenham: 1500.00\n",
      "Nott'm Forest: 1500.00\n",
      "Leicester: 1500.00\n",
      "Wolves: 1500.00\n",
      "Chelsea: 1500.00\n",
      "Bournemouth: 1500.00\n",
      "Everton: 1500.00\n",
      "West Ham: 1500.00\n",
      "Brighton: 1500.00\n",
      "Man City: 1500.00\n",
      "Arsenal: 1492.00\n"
     ]
    }
   ],
   "source": [
    "sorted_ratings = sorted(ratings.items(), key=lambda x: x[1], reverse=True)\n",
    "for team, rating in sorted_ratings:\n",
    "    print(f'{team}: {rating:.2f}')"
   ]
  },
  {
   "cell_type": "markdown",
   "id": "29248a78-6023-4023-b38f-963fc8c61d00",
   "metadata": {},
   "source": [
    "## Прогнозирование исхода футбольного матча с учетом форы с помощью рейтинга Эло\n",
    "\n",
    "Для прогнозирования исхода футбольного матча с учетом форы можно использовать рейтинг Эло команд. Начальный рейтинг для каждой команды можно установить на основе их прошлых результатов, а затем после каждого матча обновлять рейтинг в соответствии с результатом матча и рейтингом соперника.\n",
    "\n",
    "Затем ожидаемый результат матча с учетом форы может быть вычислен, как было описано в пункте ранее. В зависимости от значения ожидаемого результата и фактического значения форы можно сделать предположение о том, какая команда имеет больше шансов на победу."
   ]
  },
  {
   "cell_type": "code",
   "execution_count": 228,
   "id": "02bf44f3-9278-46e3-b2c3-4e4777fe9cb8",
   "metadata": {},
   "outputs": [
    {
     "name": "stdout",
     "output_type": "stream",
     "text": [
      "Команда А выиграет\n",
      "Команда Б выиграет\n"
     ]
    }
   ],
   "source": [
    "#расчета рейтинга Эло и прогнозирования исхода матчей с учетом форы:\n",
    "def elo_rating(Ro, Ropp, W, K=32):\n",
    "    We = 1 / (1 + 10**((Ropp - Ro) / 400))\n",
    "    return Ro + K * (W - We)\n",
    "\n",
    "def expected_result(Ra, Rb, Fb):\n",
    "    result = 1 / (1 + 10**((Rb - Ra  - Fb) / 400))\n",
    "    return result\n",
    "\n",
    "# Задаем начальные рейтинги команд\n",
    "team_a_rating = 1200\n",
    "team_b_rating = 1000\n",
    "\n",
    "# Вычисляем ожидаемый результат матча с учетом форы\n",
    "expected_result = expected_result(team_a_rating, team_b_rating, 1)\n",
    "\n",
    "# Делаем предположение о том, какая команда выиграет\n",
    "if expected_result > 0.5:\n",
    "    print(\"Команда А выиграет\")\n",
    "elif expected_result==0.5:\n",
    "    print(\"Ничья\")\n",
    "else:\n",
    "    print(\"Команда Б выиграет\")\n",
    "\n",
    "# Обновляем рейтинг команд после матча\n",
    "if expected_result > 0.5:\n",
    "    team_a_rating = elo_rating(team_a_rating, team_b_rating, 1)\n",
    "    team_b_rating = elo_rating(team_b_rating, team_a_rating, 0)\n",
    "elif expected_result==0.5:\n",
    "    team_a_rating = elo_rating(team_a_rating, team_b_rating, 0.5)\n",
    "    team_b_rating = elo_rating(team_b_rating, team_a_rating, 0.5)\n",
    "else:\n",
    "    team_a_rating = elo_rating(team_a_rating, team_b_rating, 0)\n",
    "    team_b_rating = elo_rating(team_b_rating, team_a_rating, 1)\n",
    "    \n",
    "# Задаем начальные рейтинги команд\n",
    "def elo_rating(Ro, Ropp, W, K=32):\n",
    "    We = 1 / (1 + 10**((Ropp - Ro) / 400))\n",
    "    return Ro + K * (W - We)\n",
    "\n",
    "def expected_result(Ra, Rb, Fb):\n",
    "    result = 1 / (1 + 10**((Rb - Ra  - Fb) / 400))\n",
    "    return result\n",
    "\n",
    "\n",
    "team_a_rating = 1000\n",
    "team_b_rating = 1200\n",
    "expected_result = expected_result(team_a_rating, team_b_rating, 1)\n",
    "if expected_result > 0.5:\n",
    "    print(\"Команда А выиграет\")\n",
    "elif expected_result==0.5:\n",
    "    print(\"Ничья\")\n",
    "else:\n",
    "    print(\"Команда Б выиграет\")"
   ]
  },
  {
   "cell_type": "markdown",
   "id": "95069020-98e4-446b-bbd1-c82e077e8df1",
   "metadata": {},
   "source": [
    "Реализуем функцию прогноза исхода матча с учетом форы при помощи рейтинга Эло"
   ]
  },
  {
   "cell_type": "code",
   "execution_count": 229,
   "id": "456735fe-4a5f-45fd-8db2-d220a0484b6b",
   "metadata": {},
   "outputs": [
    {
     "name": "stdin",
     "output_type": "stream",
     "text": [
      "Enter the name of team A:  Arsenal\n"
     ]
    },
    {
     "name": "stdout",
     "output_type": "stream",
     "text": [
      "1576.1439123697617\n"
     ]
    },
    {
     "name": "stdin",
     "output_type": "stream",
     "text": [
      "Enter the name of team B:  Liverpool\n"
     ]
    },
    {
     "name": "stdout",
     "output_type": "stream",
     "text": [
      "1567.1753301880353\n"
     ]
    },
    {
     "name": "stdin",
     "output_type": "stream",
     "text": [
      "Enter the handicap for team B( negative for team A):  1\n"
     ]
    },
    {
     "name": "stdout",
     "output_type": "stream",
     "text": [
      "The probability of Arsenal winning is 51.15%\n",
      "The probability of Liverpool winning is 48.85%\n"
     ]
    }
   ],
   "source": [
    "# Функция расчета ожидаемого результата игры\n",
    "def expected_result(rating_a, rating_b, handicap=0):\n",
    "    result = 1 / (1 + 10**(( rating_b- rating_a - handicap) / 400))\n",
    "    return result\n",
    "\n",
    "# Функция расчета прогноза исхода матча с учетом форы\n",
    "def match_prediction(team_a, team_b, ratings, handicap):\n",
    "    rating_a = ratings[team_a]\n",
    "    rating_b = ratings[team_b]\n",
    "    expected_a = expected_result(rating_a, rating_b, -handicap)\n",
    "    expected_b = expected_result(rating_b, rating_a, handicap)\n",
    "    prob_a = expected_a / (expected_a + expected_b)\n",
    "    prob_b = expected_b / (expected_a + expected_b)\n",
    "    return {team_a: prob_a, team_b: prob_b}\n",
    "\n",
    "# Функция обновления рейтинга команды после игры\n",
    "def update_rating(rating, expected, actual, k=32):\n",
    "    return rating + k * (actual - expected)\n",
    "\n",
    "\n",
    "# Загрузка данных о матчах\n",
    "matches = pd.read_csv('E0.csv')\n",
    "\n",
    "# Инициализация базового рейтинга команд\n",
    "teams = sorted(list(set(matches['HomeTeam']) | set(matches['AwayTeam'])))\n",
    "ratings = {team: 1500 for team in teams}\n",
    "\n",
    "# Расчет рейтинга команд после каждого матча\n",
    "for i, match in matches.iterrows():\n",
    "    team1 = match['HomeTeam']\n",
    "    team2 = match['AwayTeam']\n",
    "    score1 = match['FTHG']\n",
    "    score2 = match['FTAG']\n",
    "    expected1 = expected_result(ratings[team1], ratings[team2])\n",
    "    expected2 = expected_result(ratings[team2], ratings[team1])\n",
    "    if score1 + score2 != 0: # проверка на деление на ноль\n",
    "        actual1 = score1 / (score1 + score2)\n",
    "        actual2 = score2 / (score1 + score2)\n",
    "    else:\n",
    "        actual1 = actual2 = 0.5 # присвоить 0.5 в случае деления на ноль\n",
    "    ratings[team1] = update_rating(ratings[team1], expected1, actual1, k=32)\n",
    "    ratings[team2] = update_rating(ratings[team2], expected2, actual2, k=32)\n",
    "\n",
    "\n",
    "# Запрос команд и форы для матча\n",
    "team_a = input('Enter the name of team A: ')\n",
    "print(ratings[team_a])\n",
    "team_b = input('Enter the name of team B: ')\n",
    "print(ratings[team_b])\n",
    "handicap = float(input('Enter the handicap for team B( negative for team A): '))\n",
    "\n",
    "# Расчет прогноза исхода матча с учетом форы\n",
    "prediction = match_prediction(team_a, team_b, ratings, handicap)\n",
    "#print(prediction)\n",
    "print(f'The probability of {team_a} winning is {prediction[team_a]:.2%}')\n",
    "print(f'The probability of {team_b} winning is {prediction[team_b]:.2%}')"
   ]
  },
  {
   "cell_type": "code",
   "execution_count": 230,
   "id": "5cde2103-d4da-46ef-aa6e-43743e5b9748",
   "metadata": {},
   "outputs": [
    {
     "name": "stdin",
     "output_type": "stream",
     "text": [
      "Enter the name of team A:  Arsenal\n"
     ]
    },
    {
     "name": "stdout",
     "output_type": "stream",
     "text": [
      "1576.1439123697617\n"
     ]
    },
    {
     "name": "stdin",
     "output_type": "stream",
     "text": [
      "Enter the name of team B:  Liverpool\n"
     ]
    },
    {
     "name": "stdout",
     "output_type": "stream",
     "text": [
      "1567.1753301880353\n"
     ]
    },
    {
     "name": "stdin",
     "output_type": "stream",
     "text": [
      "Enter the handicap for team B( negative for team A):  3\n"
     ]
    },
    {
     "name": "stdout",
     "output_type": "stream",
     "text": [
      "The probability of Arsenal winning is 50.86%\n",
      "The probability of Liverpool winning is 49.14%\n"
     ]
    }
   ],
   "source": [
    "# Запрос команд и форы для матча\n",
    "team_a = input('Enter the name of team A: ')\n",
    "print(ratings[team_a])\n",
    "team_b = input('Enter the name of team B: ')\n",
    "print(ratings[team_b])\n",
    "handicap = float(input('Enter the handicap for team B( negative for team A): '))\n",
    "\n",
    "# Расчет прогноза исхода матча с учетом форы\n",
    "prediction = match_prediction(team_a, team_b, ratings, handicap)\n",
    "#print(prediction)\n",
    "print(f'The probability of {team_a} winning is {prediction[team_a]:.2%}')\n",
    "print(f'The probability of {team_b} winning is {prediction[team_b]:.2%}')"
   ]
  },
  {
   "cell_type": "code",
   "execution_count": 231,
   "id": "7f6f535d-b424-4ec7-9a59-c06936f1255c",
   "metadata": {},
   "outputs": [
    {
     "name": "stdin",
     "output_type": "stream",
     "text": [
      "Enter the name of team A:  Arsenal\n"
     ]
    },
    {
     "name": "stdout",
     "output_type": "stream",
     "text": [
      "1576.1439123697617\n"
     ]
    },
    {
     "name": "stdin",
     "output_type": "stream",
     "text": [
      "Enter the name of team B:  Liverpool\n"
     ]
    },
    {
     "name": "stdout",
     "output_type": "stream",
     "text": [
      "1567.1753301880353\n"
     ]
    },
    {
     "name": "stdin",
     "output_type": "stream",
     "text": [
      "Enter the handicap for team B( negative for team A):  0\n"
     ]
    },
    {
     "name": "stdout",
     "output_type": "stream",
     "text": [
      "The probability of Arsenal winning is 51.29%\n",
      "The probability of Liverpool winning is 48.71%\n"
     ]
    }
   ],
   "source": [
    "# Запрос команд и форы для матча\n",
    "team_a = input('Enter the name of team A: ')\n",
    "print(ratings[team_a])\n",
    "team_b = input('Enter the name of team B: ')\n",
    "print(ratings[team_b])\n",
    "handicap = float(input('Enter the handicap for team B( negative for team A): '))\n",
    "\n",
    "# Расчет прогноза исхода матча с учетом форы\n",
    "prediction = match_prediction(team_a, team_b, ratings, handicap)\n",
    "#print(prediction)\n",
    "print(f'The probability of {team_a} winning is {prediction[team_a]:.2%}')\n",
    "print(f'The probability of {team_b} winning is {prediction[team_b]:.2%}')"
   ]
  },
  {
   "cell_type": "markdown",
   "id": "a896b10b-2636-4668-84cd-4f8c7163651b",
   "metadata": {},
   "source": [
    "Итак видим, что при увеличении форы вероятность выигрыша команды с более высокими очками понижается, а с более низкими баллами повышается. Также наоборот.\n",
    "\n",
    "При увеличении форы для более слабой команды ее вероятность выигрыша повышается, потому что фора увеличивает ее ожидаемый результат игры. В результате, ожидаемая вероятность победы более слабой команды увеличивается, а вероятность победы команды более сильной команды уменьшается.\n",
    "\n",
    "Однако, при увеличении форы для более сильной команды ее вероятность выигрыша понижается, потому что фора уменьшает ее ожидаемый результат игры. В результате, ожидаемая вероятность победы более слабой команды уменьшается, а вероятность победы более сильной команды увеличивается.\n",
    "\n",
    "Таким образом, при расчете вероятности победы каждой команды с учетом форы необходимо учитывать их рейтинги и фору, чтобы определить, как изменится их ожидаемый результат игры.\n",
    "\n",
    "Расчет вероятности победы команды с учетом форы на основе рейтинга Эло используется в реальной жизни, в частности, в спортивных ставках на спортивные события, такие как футбольные матчи, баскетбольные игры, теннисные турниры и другие.\n",
    "\n",
    "Букмекерские конторы часто используют рейтинг Эло для прогнозирования исхода спортивных событий и определения коэффициентов ставок. В расчете вероятности победы команды с учетом форы учитываются ее рейтинг, рейтинг соперника и фора, что позволяет повысить точность прогнозирования исхода матча.\n",
    "\n",
    "Более того, рейтинг Эло применяется не только в спортивных ставках, но и в других областях, где необходимо оценивать относительную силу объектов или субъектов, например, в образовании, научных исследованиях, бизнесе и других сферах.\n",
    "\n",
    "Таким образом, расчет вероятности победы команды с учетом рейтинга Эло и форы является важным инструментом для прогнозирования исходов спортивных событий и других задач, где необходимо оценить относительную силу объектов или субъектов."
   ]
  },
  {
   "cell_type": "code",
   "execution_count": null,
   "id": "68a99eb9-b41a-4470-9bbd-178d218139c2",
   "metadata": {},
   "outputs": [],
   "source": []
  }
 ],
 "metadata": {
  "kernelspec": {
   "display_name": "Python 3 (ipykernel)",
   "language": "python",
   "name": "python3"
  },
  "language_info": {
   "codemirror_mode": {
    "name": "ipython",
    "version": 3
   },
   "file_extension": ".py",
   "mimetype": "text/x-python",
   "name": "python",
   "nbconvert_exporter": "python",
   "pygments_lexer": "ipython3",
   "version": "3.9.7"
  }
 },
 "nbformat": 4,
 "nbformat_minor": 5
}
